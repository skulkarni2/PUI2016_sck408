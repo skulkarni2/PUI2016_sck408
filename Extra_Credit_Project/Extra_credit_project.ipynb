{
 "cells": [
  {
   "cell_type": "markdown",
   "metadata": {},
   "source": [
    "# Spatial Homogenity of Manhattan"
   ]
  },
  {
   "cell_type": "code",
   "execution_count": 1,
   "metadata": {
    "collapsed": false
   },
   "outputs": [],
   "source": [
    "import pandas as pd\n",
    "import numpy as np\n",
    "import zipfile \n",
    "import pandas as pd\n",
    "import geopandas as gp\n",
    "import glob\n",
    "import json\n",
    "import pylab as pl\n",
    "import matplotlib as plt\n",
    "import matplotlib.cm as cm\n",
    "import matplotlib.patches as mpatches\n",
    "from descartes import PolygonPatch\n",
    "import sklearn.cluster\n",
    "import os\n",
    "import scipy \n",
    "from math import sqrt\n",
    "from scipy.stats.stats import pearsonr\n",
    "from sklearn.cluster import KMeans\n",
    "from scipy.cluster.vq import kmeans,vq\n",
    "from sklearn.metrics import silhouette_score\n",
    "from scipy.spatial.distance import cdist\n",
    "\n",
    "%matplotlib inline"
   ]
  },
  {
   "cell_type": "markdown",
   "metadata": {},
   "source": [
    "As a practice all the data is stored in PUIDATA"
   ]
  },
  {
   "cell_type": "code",
   "execution_count": 2,
   "metadata": {
    "collapsed": false
   },
   "outputs": [],
   "source": [
    "# Define environment variable PUIDATA to variable PUIDATA\n",
    "PUIDATA = os.getenv('PUIDATA')"
   ]
  },
  {
   "cell_type": "markdown",
   "metadata": {},
   "source": [
    "## Data Download and Prep\n",
    "\n",
    "### 1. Zipcode geojson file "
   ]
  },
  {
   "cell_type": "code",
   "execution_count": 3,
   "metadata": {
    "collapsed": false
   },
   "outputs": [
    {
     "name": "stdout",
     "output_type": "stream",
     "text": [
      "number of NYC zip codes: 247\n"
     ]
    }
   ],
   "source": [
    "fname = PUIDATA + '/nyc-zip-code-tabulation-areas-polygons.geojson'\n",
    "nyc_shape = gp.read_file(fname).drop_duplicates(subset='postalCode')\n",
    "# nyc_shape.plot(figsize=(5,5))  \n",
    "nyczips = nyc_shape.postalCode.values.astype(int)\n",
    "print (\"number of NYC zip codes:\", len(nyczips))   # Validating the number of zipcodes in NYC."
   ]
  },
  {
   "cell_type": "code",
   "execution_count": 4,
   "metadata": {
    "collapsed": false
   },
   "outputs": [
    {
     "data": {
      "text/html": [
       "<div>\n",
       "<table border=\"1\" class=\"dataframe\">\n",
       "  <thead>\n",
       "    <tr style=\"text-align: right;\">\n",
       "      <th></th>\n",
       "      <th>borough</th>\n",
       "      <th>geometry</th>\n",
       "      <th>ZipCode</th>\n",
       "    </tr>\n",
       "  </thead>\n",
       "  <tbody>\n",
       "    <tr>\n",
       "      <th>49</th>\n",
       "      <td>Manhattan</td>\n",
       "      <td>POLYGON ((-73.92062094847111 40.873001790648, ...</td>\n",
       "      <td>10034</td>\n",
       "    </tr>\n",
       "    <tr>\n",
       "      <th>50</th>\n",
       "      <td>Manhattan</td>\n",
       "      <td>POLYGON ((-73.93213126627553 40.86945065275044...</td>\n",
       "      <td>10033</td>\n",
       "    </tr>\n",
       "    <tr>\n",
       "      <th>52</th>\n",
       "      <td>Manhattan</td>\n",
       "      <td>POLYGON ((-73.93378898818895 40.8630718729956,...</td>\n",
       "      <td>10040</td>\n",
       "    </tr>\n",
       "    <tr>\n",
       "      <th>60</th>\n",
       "      <td>Manhattan</td>\n",
       "      <td>POLYGON ((-73.94691631035546 40.85053396462935...</td>\n",
       "      <td>10032</td>\n",
       "    </tr>\n",
       "    <tr>\n",
       "      <th>64</th>\n",
       "      <td>Manhattan</td>\n",
       "      <td>POLYGON ((-73.94008773907041 40.83034967785467...</td>\n",
       "      <td>10031</td>\n",
       "    </tr>\n",
       "  </tbody>\n",
       "</table>\n",
       "</div>"
      ],
      "text/plain": [
       "      borough                                           geometry  ZipCode\n",
       "49  Manhattan  POLYGON ((-73.92062094847111 40.873001790648, ...    10034\n",
       "50  Manhattan  POLYGON ((-73.93213126627553 40.86945065275044...    10033\n",
       "52  Manhattan  POLYGON ((-73.93378898818895 40.8630718729956,...    10040\n",
       "60  Manhattan  POLYGON ((-73.94691631035546 40.85053396462935...    10032\n",
       "64  Manhattan  POLYGON ((-73.94008773907041 40.83034967785467...    10031"
      ]
     },
     "execution_count": 4,
     "metadata": {},
     "output_type": "execute_result"
    }
   ],
   "source": [
    "#dropping coloumns not in need\n",
    "nyc_shape.drop([  u'@id', u'BLDGpostalCode', u'ST_FIPS', u'STATE',   u'PO_NAME', u'CTY_FIPS',\n",
    "             u'OBJECTID', u'Shape_Area', u'Shape_Leng'], axis = 1, inplace = True) \n",
    "\n",
    "#renaming the name postalcode with zip \n",
    "nyc_shape = nyc_shape.rename(columns={'postalCode' : 'ZipCode'}) \n",
    "\n",
    "# convert the zip to numeric format.\n",
    "nyc_shape['ZipCode'] = pd.to_numeric(nyc_shape['ZipCode'])\n",
    "nyc_shape = nyc_shape[nyc_shape['borough'] == 'Manhattan']\n",
    "nyc_shape.head()"
   ]
  },
  {
   "cell_type": "markdown",
   "metadata": {},
   "source": [
    "### 2. Manhattan PLUTO data"
   ]
  },
  {
   "cell_type": "code",
   "execution_count": 6,
   "metadata": {
    "collapsed": false
   },
   "outputs": [
    {
     "name": "stderr",
     "output_type": "stream",
     "text": [
      "/Users/shalmali/anaconda/lib/python3.5/site-packages/IPython/core/interactiveshell.py:2717: DtypeWarning: Columns (19,22,23,25,63,79) have mixed types. Specify dtype option on import or set low_memory=False.\n",
      "  interactivity=interactivity, compiler=compiler, result=result)\n"
     ]
    },
    {
     "data": {
      "text/html": [
       "<div>\n",
       "<table border=\"1\" class=\"dataframe\">\n",
       "  <thead>\n",
       "    <tr style=\"text-align: right;\">\n",
       "      <th></th>\n",
       "      <th>Borough</th>\n",
       "      <th>Block</th>\n",
       "      <th>Lot</th>\n",
       "      <th>CD</th>\n",
       "      <th>CT2010</th>\n",
       "      <th>CB2010</th>\n",
       "      <th>SchoolDist</th>\n",
       "      <th>Council</th>\n",
       "      <th>ZipCode</th>\n",
       "      <th>FireComp</th>\n",
       "      <th>...</th>\n",
       "      <th>YCoord</th>\n",
       "      <th>ZoneMap</th>\n",
       "      <th>ZMCode</th>\n",
       "      <th>Sanborn</th>\n",
       "      <th>TaxMap</th>\n",
       "      <th>EDesigNum</th>\n",
       "      <th>APPBBL</th>\n",
       "      <th>APPDate</th>\n",
       "      <th>PLUTOMapID</th>\n",
       "      <th>Version</th>\n",
       "    </tr>\n",
       "  </thead>\n",
       "  <tbody>\n",
       "    <tr>\n",
       "      <th>0</th>\n",
       "      <td>MN</td>\n",
       "      <td>1</td>\n",
       "      <td>10</td>\n",
       "      <td>101</td>\n",
       "      <td>5.0</td>\n",
       "      <td>1018.0</td>\n",
       "      <td>2.0</td>\n",
       "      <td>1.0</td>\n",
       "      <td>10004.0</td>\n",
       "      <td>E007</td>\n",
       "      <td>...</td>\n",
       "      <td>190225.0</td>\n",
       "      <td>16a</td>\n",
       "      <td>Y</td>\n",
       "      <td>199 999</td>\n",
       "      <td>10101.0</td>\n",
       "      <td>NaN</td>\n",
       "      <td>0.0</td>\n",
       "      <td>NaN</td>\n",
       "      <td>1</td>\n",
       "      <td>16V2</td>\n",
       "    </tr>\n",
       "    <tr>\n",
       "      <th>1</th>\n",
       "      <td>MN</td>\n",
       "      <td>1</td>\n",
       "      <td>101</td>\n",
       "      <td>101</td>\n",
       "      <td>1.0</td>\n",
       "      <td>1001.0</td>\n",
       "      <td>2.0</td>\n",
       "      <td>1.0</td>\n",
       "      <td>10004.0</td>\n",
       "      <td>E007</td>\n",
       "      <td>...</td>\n",
       "      <td>190636.0</td>\n",
       "      <td>16a</td>\n",
       "      <td>Y</td>\n",
       "      <td>199 999</td>\n",
       "      <td>10101.0</td>\n",
       "      <td>NaN</td>\n",
       "      <td>0.0</td>\n",
       "      <td>NaN</td>\n",
       "      <td>1</td>\n",
       "      <td>16V2</td>\n",
       "    </tr>\n",
       "    <tr>\n",
       "      <th>2</th>\n",
       "      <td>MN</td>\n",
       "      <td>1</td>\n",
       "      <td>201</td>\n",
       "      <td>101</td>\n",
       "      <td>1.0</td>\n",
       "      <td>1000.0</td>\n",
       "      <td>2.0</td>\n",
       "      <td>1.0</td>\n",
       "      <td>10004.0</td>\n",
       "      <td>E007</td>\n",
       "      <td>...</td>\n",
       "      <td>193648.0</td>\n",
       "      <td>12b</td>\n",
       "      <td>NaN</td>\n",
       "      <td>199 999</td>\n",
       "      <td>10101.0</td>\n",
       "      <td>NaN</td>\n",
       "      <td>0.0</td>\n",
       "      <td>NaN</td>\n",
       "      <td>1</td>\n",
       "      <td>16V2</td>\n",
       "    </tr>\n",
       "  </tbody>\n",
       "</table>\n",
       "<p>3 rows × 84 columns</p>\n",
       "</div>"
      ],
      "text/plain": [
       "  Borough  Block  Lot   CD  CT2010  CB2010  SchoolDist  Council  ZipCode  \\\n",
       "0      MN      1   10  101     5.0  1018.0         2.0      1.0  10004.0   \n",
       "1      MN      1  101  101     1.0  1001.0         2.0      1.0  10004.0   \n",
       "2      MN      1  201  101     1.0  1000.0         2.0      1.0  10004.0   \n",
       "\n",
       "  FireComp   ...      YCoord  ZoneMap  ZMCode  Sanborn   TaxMap EDesigNum  \\\n",
       "0     E007   ...    190225.0      16a       Y  199 999  10101.0       NaN   \n",
       "1     E007   ...    190636.0      16a       Y  199 999  10101.0       NaN   \n",
       "2     E007   ...    193648.0      12b     NaN  199 999  10101.0       NaN   \n",
       "\n",
       "  APPBBL APPDate PLUTOMapID Version  \n",
       "0    0.0     NaN          1    16V2  \n",
       "1    0.0     NaN          1    16V2  \n",
       "2    0.0     NaN          1    16V2  \n",
       "\n",
       "[3 rows x 84 columns]"
      ]
     },
     "execution_count": 6,
     "metadata": {},
     "output_type": "execute_result"
    }
   ],
   "source": [
    "MN = pd.read_csv('BORO_zip_files_csv/MN.csv')\n",
    "MN.head(3)"
   ]
  },
  {
   "cell_type": "markdown",
   "metadata": {},
   "source": [
    "#### Select only required columns from the 70 attributes"
   ]
  },
  {
   "cell_type": "code",
   "execution_count": 7,
   "metadata": {
    "collapsed": false
   },
   "outputs": [
    {
     "data": {
      "text/html": [
       "<div>\n",
       "<table border=\"1\" class=\"dataframe\">\n",
       "  <thead>\n",
       "    <tr style=\"text-align: right;\">\n",
       "      <th></th>\n",
       "      <th>ZipCode</th>\n",
       "      <th>LandUse</th>\n",
       "      <th>IrrLotCode</th>\n",
       "      <th>BldgClass</th>\n",
       "      <th>BldgArea</th>\n",
       "      <th>LotArea</th>\n",
       "      <th>NumFloors</th>\n",
       "      <th>BldgFront</th>\n",
       "      <th>BldgDepth</th>\n",
       "    </tr>\n",
       "  </thead>\n",
       "  <tbody>\n",
       "    <tr>\n",
       "      <th>0</th>\n",
       "      <td>10004.0</td>\n",
       "      <td>8.0</td>\n",
       "      <td>N</td>\n",
       "      <td>Y4</td>\n",
       "      <td>2725731</td>\n",
       "      <td>7736692</td>\n",
       "      <td>0.0</td>\n",
       "      <td>0.0</td>\n",
       "      <td>0.0</td>\n",
       "    </tr>\n",
       "    <tr>\n",
       "      <th>1</th>\n",
       "      <td>10004.0</td>\n",
       "      <td>8.0</td>\n",
       "      <td>Y</td>\n",
       "      <td>P7</td>\n",
       "      <td>541886</td>\n",
       "      <td>541886</td>\n",
       "      <td>0.0</td>\n",
       "      <td>0.0</td>\n",
       "      <td>0.0</td>\n",
       "    </tr>\n",
       "    <tr>\n",
       "      <th>2</th>\n",
       "      <td>10004.0</td>\n",
       "      <td>NaN</td>\n",
       "      <td>N</td>\n",
       "      <td>Z9</td>\n",
       "      <td>603130</td>\n",
       "      <td>2764190</td>\n",
       "      <td>0.0</td>\n",
       "      <td>0.0</td>\n",
       "      <td>0.0</td>\n",
       "    </tr>\n",
       "  </tbody>\n",
       "</table>\n",
       "</div>"
      ],
      "text/plain": [
       "   ZipCode  LandUse IrrLotCode BldgClass  BldgArea  LotArea  NumFloors  \\\n",
       "0  10004.0      8.0          N        Y4   2725731  7736692        0.0   \n",
       "1  10004.0      8.0          Y        P7    541886   541886        0.0   \n",
       "2  10004.0      NaN          N        Z9    603130  2764190        0.0   \n",
       "\n",
       "   BldgFront  BldgDepth  \n",
       "0        0.0        0.0  \n",
       "1        0.0        0.0  \n",
       "2        0.0        0.0  "
      ]
     },
     "execution_count": 7,
     "metadata": {},
     "output_type": "execute_result"
    }
   ],
   "source": [
    "MN = MN[['ZipCode','LandUse','IrrLotCode',\n",
    "       'BldgClass', 'BldgArea', 'LotArea','NumFloors', \n",
    "        'BldgFront','BldgDepth']]\n",
    "MN.head(3)"
   ]
  },
  {
   "cell_type": "code",
   "execution_count": 8,
   "metadata": {
    "collapsed": false
   },
   "outputs": [
    {
     "data": {
      "text/plain": [
       "array([ 10004.,     nan,  10006.,  10280.,  10282.,  10281.,  10007.,\n",
       "        10005.,  10038.,  10045.,  10013.,  10002.,  10009.,  10003.,\n",
       "        10012.,  10014.,  10011.,  10001.,  10018.,  10119.,  10123.,\n",
       "        10010.,  10118.,  10016.,  10017.,  10036.,  10019.,  10020.,\n",
       "        10023.,  10024.,  10069.,  10025.,  10112.,  10103.,  10022.,\n",
       "        10044.,  10065.,  10021.,  10075.,  10028.,  10128.,  10026.,\n",
       "        10029.,  10035.,  10129.,  10027.,  10037.,  10039.,  10030.,\n",
       "        10031.,  10032.,  10033.,  10040.,  10034.,  10463.])"
      ]
     },
     "execution_count": 8,
     "metadata": {},
     "output_type": "execute_result"
    }
   ],
   "source": [
    "MN.ZipCode.unique()"
   ]
  },
  {
   "cell_type": "code",
   "execution_count": 9,
   "metadata": {
    "collapsed": true
   },
   "outputs": [],
   "source": [
    "MN = MN[MN['ZipCode'] != 10463]"
   ]
  },
  {
   "cell_type": "code",
   "execution_count": 10,
   "metadata": {
    "collapsed": false
   },
   "outputs": [],
   "source": [
    "MN.dropna(inplace=True, subset=['ZipCode'])"
   ]
  },
  {
   "cell_type": "code",
   "execution_count": 11,
   "metadata": {
    "collapsed": false
   },
   "outputs": [
    {
     "data": {
      "text/plain": [
       "53"
      ]
     },
     "execution_count": 11,
     "metadata": {},
     "output_type": "execute_result"
    }
   ],
   "source": [
    "len(MN.ZipCode.unique())"
   ]
  },
  {
   "cell_type": "markdown",
   "metadata": {},
   "source": [
    "### Calculate the Standard deviation for the selected attributes"
   ]
  },
  {
   "cell_type": "code",
   "execution_count": 12,
   "metadata": {
    "collapsed": false
   },
   "outputs": [
    {
     "data": {
      "text/plain": [
       "ZipCode\n",
       "10001.0    0.446560\n",
       "10002.0    0.472918\n",
       "10003.0    0.445456\n",
       "Name: IrrLotCode, dtype: float64"
      ]
     },
     "execution_count": 12,
     "metadata": {},
     "output_type": "execute_result"
    }
   ],
   "source": [
    "MN['IrrLotCode'] = pd.Categorical(MN.IrrLotCode).codes\n",
    "irr = MN.groupby(['ZipCode'])['IrrLotCode'].std()\n",
    "irr.head(3)"
   ]
  },
  {
   "cell_type": "code",
   "execution_count": 13,
   "metadata": {
    "collapsed": false
   },
   "outputs": [
    {
     "data": {
      "text/plain": [
       "ZipCode\n",
       "10001.0    73.761979\n",
       "10002.0    41.972632\n",
       "10003.0    38.957719\n",
       "Name: BldgDepth, dtype: float64"
      ]
     },
     "execution_count": 13,
     "metadata": {},
     "output_type": "execute_result"
    }
   ],
   "source": [
    "depthMN = MN.groupby(['ZipCode'])['BldgDepth'].std()\n",
    "depthMN.head(3)"
   ]
  },
  {
   "cell_type": "code",
   "execution_count": 14,
   "metadata": {
    "collapsed": false
   },
   "outputs": [
    {
     "data": {
      "text/plain": [
       "ZipCode\n",
       "10001.0    7.798364\n",
       "10002.0    3.878105\n",
       "10003.0    3.656431\n",
       "Name: NumFloors, dtype: float64"
      ]
     },
     "execution_count": 14,
     "metadata": {},
     "output_type": "execute_result"
    }
   ],
   "source": [
    "Bldg_ht = MN.groupby(['ZipCode'])['NumFloors'].std()\n",
    "Bldg_ht.head(3)"
   ]
  },
  {
   "cell_type": "code",
   "execution_count": 15,
   "metadata": {
    "collapsed": false
   },
   "outputs": [
    {
     "data": {
      "text/plain": [
       "ZipCode\n",
       "10001.0    72.186163\n",
       "10002.0    43.249877\n",
       "10003.0    36.037188\n",
       "Name: BldgFront, dtype: float64"
      ]
     },
     "execution_count": 15,
     "metadata": {},
     "output_type": "execute_result"
    }
   ],
   "source": [
    "front = MN.groupby(['ZipCode'])['BldgFront'].std()\n",
    "front.head(3)"
   ]
  },
  {
   "cell_type": "code",
   "execution_count": 16,
   "metadata": {
    "collapsed": false
   },
   "outputs": [
    {
     "data": {
      "text/html": [
       "<div>\n",
       "<table border=\"1\" class=\"dataframe\">\n",
       "  <thead>\n",
       "    <tr style=\"text-align: right;\">\n",
       "      <th></th>\n",
       "      <th>NumFloors</th>\n",
       "      <th>BldgFront</th>\n",
       "      <th>BldgDepth</th>\n",
       "      <th>IrrLotCode</th>\n",
       "    </tr>\n",
       "    <tr>\n",
       "      <th>ZipCode</th>\n",
       "      <th></th>\n",
       "      <th></th>\n",
       "      <th></th>\n",
       "      <th></th>\n",
       "    </tr>\n",
       "  </thead>\n",
       "  <tbody>\n",
       "    <tr>\n",
       "      <th>10001.0</th>\n",
       "      <td>7.798364</td>\n",
       "      <td>72.186163</td>\n",
       "      <td>73.761979</td>\n",
       "      <td>0.446560</td>\n",
       "    </tr>\n",
       "    <tr>\n",
       "      <th>10002.0</th>\n",
       "      <td>3.878105</td>\n",
       "      <td>43.249877</td>\n",
       "      <td>41.972632</td>\n",
       "      <td>0.472918</td>\n",
       "    </tr>\n",
       "    <tr>\n",
       "      <th>10003.0</th>\n",
       "      <td>3.656431</td>\n",
       "      <td>36.037188</td>\n",
       "      <td>38.957719</td>\n",
       "      <td>0.445456</td>\n",
       "    </tr>\n",
       "  </tbody>\n",
       "</table>\n",
       "</div>"
      ],
      "text/plain": [
       "         NumFloors  BldgFront  BldgDepth  IrrLotCode\n",
       "ZipCode                                             \n",
       "10001.0   7.798364  72.186163  73.761979    0.446560\n",
       "10002.0   3.878105  43.249877  41.972632    0.472918\n",
       "10003.0   3.656431  36.037188  38.957719    0.445456"
      ]
     },
     "execution_count": 16,
     "metadata": {},
     "output_type": "execute_result"
    }
   ],
   "source": [
    "df = pd.concat([Bldg_ht,front,depthMN,irr],axis=1)\n",
    "df.head(3)"
   ]
  },
  {
   "cell_type": "code",
   "execution_count": 17,
   "metadata": {
    "collapsed": false
   },
   "outputs": [
    {
     "data": {
      "text/html": [
       "<div>\n",
       "<table border=\"1\" class=\"dataframe\">\n",
       "  <thead>\n",
       "    <tr style=\"text-align: right;\">\n",
       "      <th></th>\n",
       "      <th>ZipCode</th>\n",
       "      <th>NumFloors</th>\n",
       "      <th>BldgFront</th>\n",
       "      <th>BldgDepth</th>\n",
       "      <th>IrrLotCode</th>\n",
       "    </tr>\n",
       "  </thead>\n",
       "  <tbody>\n",
       "    <tr>\n",
       "      <th>0</th>\n",
       "      <td>10001.0</td>\n",
       "      <td>7.798364</td>\n",
       "      <td>72.186163</td>\n",
       "      <td>73.761979</td>\n",
       "      <td>0.446560</td>\n",
       "    </tr>\n",
       "    <tr>\n",
       "      <th>1</th>\n",
       "      <td>10002.0</td>\n",
       "      <td>3.878105</td>\n",
       "      <td>43.249877</td>\n",
       "      <td>41.972632</td>\n",
       "      <td>0.472918</td>\n",
       "    </tr>\n",
       "    <tr>\n",
       "      <th>2</th>\n",
       "      <td>10003.0</td>\n",
       "      <td>3.656431</td>\n",
       "      <td>36.037188</td>\n",
       "      <td>38.957719</td>\n",
       "      <td>0.445456</td>\n",
       "    </tr>\n",
       "    <tr>\n",
       "      <th>3</th>\n",
       "      <td>10004.0</td>\n",
       "      <td>14.971565</td>\n",
       "      <td>81.152684</td>\n",
       "      <td>94.283673</td>\n",
       "      <td>0.268680</td>\n",
       "    </tr>\n",
       "    <tr>\n",
       "      <th>4</th>\n",
       "      <td>10005.0</td>\n",
       "      <td>15.838469</td>\n",
       "      <td>93.217189</td>\n",
       "      <td>103.047778</td>\n",
       "      <td>0.268194</td>\n",
       "    </tr>\n",
       "    <tr>\n",
       "      <th>5</th>\n",
       "      <td>10006.0</td>\n",
       "      <td>14.379807</td>\n",
       "      <td>49.932474</td>\n",
       "      <td>76.363221</td>\n",
       "      <td>0.242186</td>\n",
       "    </tr>\n",
       "    <tr>\n",
       "      <th>6</th>\n",
       "      <td>10007.0</td>\n",
       "      <td>13.161381</td>\n",
       "      <td>70.299937</td>\n",
       "      <td>69.578247</td>\n",
       "      <td>0.477246</td>\n",
       "    </tr>\n",
       "    <tr>\n",
       "      <th>7</th>\n",
       "      <td>10009.0</td>\n",
       "      <td>2.369888</td>\n",
       "      <td>49.564359</td>\n",
       "      <td>63.661497</td>\n",
       "      <td>0.359706</td>\n",
       "    </tr>\n",
       "    <tr>\n",
       "      <th>8</th>\n",
       "      <td>10010.0</td>\n",
       "      <td>7.293560</td>\n",
       "      <td>46.862394</td>\n",
       "      <td>56.757986</td>\n",
       "      <td>0.421028</td>\n",
       "    </tr>\n",
       "    <tr>\n",
       "      <th>9</th>\n",
       "      <td>10011.0</td>\n",
       "      <td>3.505930</td>\n",
       "      <td>37.513697</td>\n",
       "      <td>55.067405</td>\n",
       "      <td>0.411736</td>\n",
       "    </tr>\n",
       "    <tr>\n",
       "      <th>10</th>\n",
       "      <td>10012.0</td>\n",
       "      <td>2.556654</td>\n",
       "      <td>33.718386</td>\n",
       "      <td>43.085639</td>\n",
       "      <td>0.477747</td>\n",
       "    </tr>\n",
       "    <tr>\n",
       "      <th>11</th>\n",
       "      <td>10013.0</td>\n",
       "      <td>4.422308</td>\n",
       "      <td>145.702250</td>\n",
       "      <td>57.106164</td>\n",
       "      <td>0.494793</td>\n",
       "    </tr>\n",
       "    <tr>\n",
       "      <th>12</th>\n",
       "      <td>10014.0</td>\n",
       "      <td>2.389046</td>\n",
       "      <td>38.594280</td>\n",
       "      <td>66.994469</td>\n",
       "      <td>0.500065</td>\n",
       "    </tr>\n",
       "    <tr>\n",
       "      <th>13</th>\n",
       "      <td>10016.0</td>\n",
       "      <td>7.768614</td>\n",
       "      <td>41.605702</td>\n",
       "      <td>42.854663</td>\n",
       "      <td>0.394428</td>\n",
       "    </tr>\n",
       "    <tr>\n",
       "      <th>14</th>\n",
       "      <td>10017.0</td>\n",
       "      <td>13.175176</td>\n",
       "      <td>65.965738</td>\n",
       "      <td>67.807560</td>\n",
       "      <td>0.444359</td>\n",
       "    </tr>\n",
       "    <tr>\n",
       "      <th>15</th>\n",
       "      <td>10018.0</td>\n",
       "      <td>9.464870</td>\n",
       "      <td>62.192182</td>\n",
       "      <td>71.058060</td>\n",
       "      <td>0.406844</td>\n",
       "    </tr>\n",
       "    <tr>\n",
       "      <th>16</th>\n",
       "      <td>10019.0</td>\n",
       "      <td>11.913851</td>\n",
       "      <td>58.999165</td>\n",
       "      <td>88.395759</td>\n",
       "      <td>0.441177</td>\n",
       "    </tr>\n",
       "    <tr>\n",
       "      <th>17</th>\n",
       "      <td>10020.0</td>\n",
       "      <td>22.919182</td>\n",
       "      <td>76.210527</td>\n",
       "      <td>175.897982</td>\n",
       "      <td>0.516398</td>\n",
       "    </tr>\n",
       "    <tr>\n",
       "      <th>18</th>\n",
       "      <td>10021.0</td>\n",
       "      <td>6.182431</td>\n",
       "      <td>42.125910</td>\n",
       "      <td>31.617172</td>\n",
       "      <td>0.309579</td>\n",
       "    </tr>\n",
       "    <tr>\n",
       "      <th>19</th>\n",
       "      <td>10022.0</td>\n",
       "      <td>10.755129</td>\n",
       "      <td>48.345253</td>\n",
       "      <td>54.405571</td>\n",
       "      <td>0.391172</td>\n",
       "    </tr>\n",
       "    <tr>\n",
       "      <th>20</th>\n",
       "      <td>10023.0</td>\n",
       "      <td>6.980167</td>\n",
       "      <td>48.884979</td>\n",
       "      <td>45.446197</td>\n",
       "      <td>0.345483</td>\n",
       "    </tr>\n",
       "    <tr>\n",
       "      <th>21</th>\n",
       "      <td>10024.0</td>\n",
       "      <td>4.015246</td>\n",
       "      <td>37.696223</td>\n",
       "      <td>30.703727</td>\n",
       "      <td>0.364944</td>\n",
       "    </tr>\n",
       "    <tr>\n",
       "      <th>22</th>\n",
       "      <td>10025.0</td>\n",
       "      <td>4.473815</td>\n",
       "      <td>48.709349</td>\n",
       "      <td>35.660587</td>\n",
       "      <td>0.387886</td>\n",
       "    </tr>\n",
       "    <tr>\n",
       "      <th>23</th>\n",
       "      <td>10026.0</td>\n",
       "      <td>2.299340</td>\n",
       "      <td>39.494063</td>\n",
       "      <td>34.623530</td>\n",
       "      <td>0.305628</td>\n",
       "    </tr>\n",
       "    <tr>\n",
       "      <th>24</th>\n",
       "      <td>10027.0</td>\n",
       "      <td>2.453839</td>\n",
       "      <td>41.494839</td>\n",
       "      <td>45.359151</td>\n",
       "      <td>0.349874</td>\n",
       "    </tr>\n",
       "    <tr>\n",
       "      <th>25</th>\n",
       "      <td>10028.0</td>\n",
       "      <td>5.556352</td>\n",
       "      <td>236.203859</td>\n",
       "      <td>270.353870</td>\n",
       "      <td>0.309650</td>\n",
       "    </tr>\n",
       "    <tr>\n",
       "      <th>26</th>\n",
       "      <td>10029.0</td>\n",
       "      <td>3.335809</td>\n",
       "      <td>49.070763</td>\n",
       "      <td>46.249336</td>\n",
       "      <td>0.281740</td>\n",
       "    </tr>\n",
       "    <tr>\n",
       "      <th>27</th>\n",
       "      <td>10030.0</td>\n",
       "      <td>2.097787</td>\n",
       "      <td>34.160607</td>\n",
       "      <td>29.347298</td>\n",
       "      <td>0.306667</td>\n",
       "    </tr>\n",
       "    <tr>\n",
       "      <th>28</th>\n",
       "      <td>10031.0</td>\n",
       "      <td>2.130552</td>\n",
       "      <td>39.722711</td>\n",
       "      <td>33.117140</td>\n",
       "      <td>0.341992</td>\n",
       "    </tr>\n",
       "    <tr>\n",
       "      <th>29</th>\n",
       "      <td>10032.0</td>\n",
       "      <td>2.650562</td>\n",
       "      <td>48.535742</td>\n",
       "      <td>42.541204</td>\n",
       "      <td>0.450768</td>\n",
       "    </tr>\n",
       "    <tr>\n",
       "      <th>30</th>\n",
       "      <td>10033.0</td>\n",
       "      <td>2.559522</td>\n",
       "      <td>46.596364</td>\n",
       "      <td>42.117105</td>\n",
       "      <td>0.467465</td>\n",
       "    </tr>\n",
       "    <tr>\n",
       "      <th>31</th>\n",
       "      <td>10034.0</td>\n",
       "      <td>2.361557</td>\n",
       "      <td>56.541286</td>\n",
       "      <td>55.877303</td>\n",
       "      <td>0.474733</td>\n",
       "    </tr>\n",
       "    <tr>\n",
       "      <th>32</th>\n",
       "      <td>10035.0</td>\n",
       "      <td>2.969048</td>\n",
       "      <td>40.095142</td>\n",
       "      <td>40.531393</td>\n",
       "      <td>0.324123</td>\n",
       "    </tr>\n",
       "    <tr>\n",
       "      <th>33</th>\n",
       "      <td>10036.0</td>\n",
       "      <td>9.862198</td>\n",
       "      <td>50.611675</td>\n",
       "      <td>71.126504</td>\n",
       "      <td>0.389097</td>\n",
       "    </tr>\n",
       "    <tr>\n",
       "      <th>34</th>\n",
       "      <td>10037.0</td>\n",
       "      <td>3.374042</td>\n",
       "      <td>54.341458</td>\n",
       "      <td>63.364983</td>\n",
       "      <td>0.345751</td>\n",
       "    </tr>\n",
       "    <tr>\n",
       "      <th>35</th>\n",
       "      <td>10038.0</td>\n",
       "      <td>9.077894</td>\n",
       "      <td>52.858762</td>\n",
       "      <td>70.395285</td>\n",
       "      <td>0.289319</td>\n",
       "    </tr>\n",
       "    <tr>\n",
       "      <th>36</th>\n",
       "      <td>10039.0</td>\n",
       "      <td>3.437274</td>\n",
       "      <td>73.056886</td>\n",
       "      <td>60.138635</td>\n",
       "      <td>0.389966</td>\n",
       "    </tr>\n",
       "    <tr>\n",
       "      <th>37</th>\n",
       "      <td>10040.0</td>\n",
       "      <td>2.496907</td>\n",
       "      <td>56.870948</td>\n",
       "      <td>44.030904</td>\n",
       "      <td>0.484990</td>\n",
       "    </tr>\n",
       "    <tr>\n",
       "      <th>38</th>\n",
       "      <td>10044.0</td>\n",
       "      <td>8.544840</td>\n",
       "      <td>198.595041</td>\n",
       "      <td>126.066706</td>\n",
       "      <td>0.300793</td>\n",
       "    </tr>\n",
       "    <tr>\n",
       "      <th>39</th>\n",
       "      <td>10045.0</td>\n",
       "      <td>NaN</td>\n",
       "      <td>NaN</td>\n",
       "      <td>NaN</td>\n",
       "      <td>NaN</td>\n",
       "    </tr>\n",
       "    <tr>\n",
       "      <th>40</th>\n",
       "      <td>10065.0</td>\n",
       "      <td>6.112955</td>\n",
       "      <td>44.597926</td>\n",
       "      <td>47.235311</td>\n",
       "      <td>0.327224</td>\n",
       "    </tr>\n",
       "    <tr>\n",
       "      <th>41</th>\n",
       "      <td>10069.0</td>\n",
       "      <td>18.170638</td>\n",
       "      <td>99.730459</td>\n",
       "      <td>84.911317</td>\n",
       "      <td>0.380693</td>\n",
       "    </tr>\n",
       "    <tr>\n",
       "      <th>42</th>\n",
       "      <td>10075.0</td>\n",
       "      <td>5.372167</td>\n",
       "      <td>36.864729</td>\n",
       "      <td>29.418672</td>\n",
       "      <td>0.309906</td>\n",
       "    </tr>\n",
       "    <tr>\n",
       "      <th>43</th>\n",
       "      <td>10103.0</td>\n",
       "      <td>23.041629</td>\n",
       "      <td>64.983972</td>\n",
       "      <td>110.557300</td>\n",
       "      <td>0.577350</td>\n",
       "    </tr>\n",
       "    <tr>\n",
       "      <th>44</th>\n",
       "      <td>10112.0</td>\n",
       "      <td>NaN</td>\n",
       "      <td>NaN</td>\n",
       "      <td>NaN</td>\n",
       "      <td>NaN</td>\n",
       "    </tr>\n",
       "    <tr>\n",
       "      <th>45</th>\n",
       "      <td>10118.0</td>\n",
       "      <td>NaN</td>\n",
       "      <td>NaN</td>\n",
       "      <td>NaN</td>\n",
       "      <td>NaN</td>\n",
       "    </tr>\n",
       "    <tr>\n",
       "      <th>46</th>\n",
       "      <td>10119.0</td>\n",
       "      <td>14.849242</td>\n",
       "      <td>33.234019</td>\n",
       "      <td>178.190909</td>\n",
       "      <td>0.000000</td>\n",
       "    </tr>\n",
       "    <tr>\n",
       "      <th>47</th>\n",
       "      <td>10123.0</td>\n",
       "      <td>NaN</td>\n",
       "      <td>NaN</td>\n",
       "      <td>NaN</td>\n",
       "      <td>NaN</td>\n",
       "    </tr>\n",
       "    <tr>\n",
       "      <th>48</th>\n",
       "      <td>10128.0</td>\n",
       "      <td>5.801153</td>\n",
       "      <td>45.784785</td>\n",
       "      <td>33.384459</td>\n",
       "      <td>0.314285</td>\n",
       "    </tr>\n",
       "    <tr>\n",
       "      <th>49</th>\n",
       "      <td>10129.0</td>\n",
       "      <td>5.036533</td>\n",
       "      <td>28.232369</td>\n",
       "      <td>35.007142</td>\n",
       "      <td>0.000000</td>\n",
       "    </tr>\n",
       "    <tr>\n",
       "      <th>50</th>\n",
       "      <td>10280.0</td>\n",
       "      <td>10.966336</td>\n",
       "      <td>108.899150</td>\n",
       "      <td>94.539283</td>\n",
       "      <td>0.366348</td>\n",
       "    </tr>\n",
       "    <tr>\n",
       "      <th>51</th>\n",
       "      <td>10281.0</td>\n",
       "      <td>19.588262</td>\n",
       "      <td>101.991666</td>\n",
       "      <td>59.919112</td>\n",
       "      <td>0.447214</td>\n",
       "    </tr>\n",
       "    <tr>\n",
       "      <th>52</th>\n",
       "      <td>10282.0</td>\n",
       "      <td>11.908831</td>\n",
       "      <td>113.570516</td>\n",
       "      <td>112.743609</td>\n",
       "      <td>0.235702</td>\n",
       "    </tr>\n",
       "  </tbody>\n",
       "</table>\n",
       "</div>"
      ],
      "text/plain": [
       "    ZipCode  NumFloors   BldgFront   BldgDepth  IrrLotCode\n",
       "0   10001.0   7.798364   72.186163   73.761979    0.446560\n",
       "1   10002.0   3.878105   43.249877   41.972632    0.472918\n",
       "2   10003.0   3.656431   36.037188   38.957719    0.445456\n",
       "3   10004.0  14.971565   81.152684   94.283673    0.268680\n",
       "4   10005.0  15.838469   93.217189  103.047778    0.268194\n",
       "5   10006.0  14.379807   49.932474   76.363221    0.242186\n",
       "6   10007.0  13.161381   70.299937   69.578247    0.477246\n",
       "7   10009.0   2.369888   49.564359   63.661497    0.359706\n",
       "8   10010.0   7.293560   46.862394   56.757986    0.421028\n",
       "9   10011.0   3.505930   37.513697   55.067405    0.411736\n",
       "10  10012.0   2.556654   33.718386   43.085639    0.477747\n",
       "11  10013.0   4.422308  145.702250   57.106164    0.494793\n",
       "12  10014.0   2.389046   38.594280   66.994469    0.500065\n",
       "13  10016.0   7.768614   41.605702   42.854663    0.394428\n",
       "14  10017.0  13.175176   65.965738   67.807560    0.444359\n",
       "15  10018.0   9.464870   62.192182   71.058060    0.406844\n",
       "16  10019.0  11.913851   58.999165   88.395759    0.441177\n",
       "17  10020.0  22.919182   76.210527  175.897982    0.516398\n",
       "18  10021.0   6.182431   42.125910   31.617172    0.309579\n",
       "19  10022.0  10.755129   48.345253   54.405571    0.391172\n",
       "20  10023.0   6.980167   48.884979   45.446197    0.345483\n",
       "21  10024.0   4.015246   37.696223   30.703727    0.364944\n",
       "22  10025.0   4.473815   48.709349   35.660587    0.387886\n",
       "23  10026.0   2.299340   39.494063   34.623530    0.305628\n",
       "24  10027.0   2.453839   41.494839   45.359151    0.349874\n",
       "25  10028.0   5.556352  236.203859  270.353870    0.309650\n",
       "26  10029.0   3.335809   49.070763   46.249336    0.281740\n",
       "27  10030.0   2.097787   34.160607   29.347298    0.306667\n",
       "28  10031.0   2.130552   39.722711   33.117140    0.341992\n",
       "29  10032.0   2.650562   48.535742   42.541204    0.450768\n",
       "30  10033.0   2.559522   46.596364   42.117105    0.467465\n",
       "31  10034.0   2.361557   56.541286   55.877303    0.474733\n",
       "32  10035.0   2.969048   40.095142   40.531393    0.324123\n",
       "33  10036.0   9.862198   50.611675   71.126504    0.389097\n",
       "34  10037.0   3.374042   54.341458   63.364983    0.345751\n",
       "35  10038.0   9.077894   52.858762   70.395285    0.289319\n",
       "36  10039.0   3.437274   73.056886   60.138635    0.389966\n",
       "37  10040.0   2.496907   56.870948   44.030904    0.484990\n",
       "38  10044.0   8.544840  198.595041  126.066706    0.300793\n",
       "39  10045.0        NaN         NaN         NaN         NaN\n",
       "40  10065.0   6.112955   44.597926   47.235311    0.327224\n",
       "41  10069.0  18.170638   99.730459   84.911317    0.380693\n",
       "42  10075.0   5.372167   36.864729   29.418672    0.309906\n",
       "43  10103.0  23.041629   64.983972  110.557300    0.577350\n",
       "44  10112.0        NaN         NaN         NaN         NaN\n",
       "45  10118.0        NaN         NaN         NaN         NaN\n",
       "46  10119.0  14.849242   33.234019  178.190909    0.000000\n",
       "47  10123.0        NaN         NaN         NaN         NaN\n",
       "48  10128.0   5.801153   45.784785   33.384459    0.314285\n",
       "49  10129.0   5.036533   28.232369   35.007142    0.000000\n",
       "50  10280.0  10.966336  108.899150   94.539283    0.366348\n",
       "51  10281.0  19.588262  101.991666   59.919112    0.447214\n",
       "52  10282.0  11.908831  113.570516  112.743609    0.235702"
      ]
     },
     "execution_count": 17,
     "metadata": {},
     "output_type": "execute_result"
    }
   ],
   "source": [
    "df.reset_index()"
   ]
  },
  {
   "cell_type": "code",
   "execution_count": 18,
   "metadata": {
    "collapsed": false
   },
   "outputs": [
    {
     "data": {
      "text/plain": [
       "(49, 4)"
      ]
     },
     "execution_count": 18,
     "metadata": {},
     "output_type": "execute_result"
    }
   ],
   "source": [
    "df.dropna(inplace=True, subset=['NumFloors','BldgFront','BldgDepth','IrrLotCode'])\n",
    "df.shape"
   ]
  },
  {
   "cell_type": "markdown",
   "metadata": {},
   "source": [
    "The PLUTO data is now clean and ready to be normalised by using sklearn preprocessing package."
   ]
  },
  {
   "cell_type": "code",
   "execution_count": 19,
   "metadata": {
    "collapsed": true
   },
   "outputs": [],
   "source": [
    "from sklearn import preprocessing\n",
    "df_norm = preprocessing.MinMaxScaler()\n",
    "df_scaled = df_norm.fit_transform(df)"
   ]
  },
  {
   "cell_type": "code",
   "execution_count": 20,
   "metadata": {
    "collapsed": false
   },
   "outputs": [],
   "source": [
    "df1 = pd.DataFrame(df_scaled)"
   ]
  },
  {
   "cell_type": "code",
   "execution_count": 21,
   "metadata": {
    "collapsed": false
   },
   "outputs": [
    {
     "data": {
      "text/html": [
       "<div>\n",
       "<table border=\"1\" class=\"dataframe\">\n",
       "  <thead>\n",
       "    <tr style=\"text-align: right;\">\n",
       "      <th></th>\n",
       "      <th>0</th>\n",
       "      <th>1</th>\n",
       "      <th>2</th>\n",
       "      <th>3</th>\n",
       "    </tr>\n",
       "  </thead>\n",
       "  <tbody>\n",
       "    <tr>\n",
       "      <th>0</th>\n",
       "      <td>0.272184</td>\n",
       "      <td>0.211345</td>\n",
       "      <td>0.184288</td>\n",
       "      <td>0.773464</td>\n",
       "    </tr>\n",
       "    <tr>\n",
       "      <th>1</th>\n",
       "      <td>0.085004</td>\n",
       "      <td>0.072209</td>\n",
       "      <td>0.052386</td>\n",
       "      <td>0.819118</td>\n",
       "    </tr>\n",
       "    <tr>\n",
       "      <th>2</th>\n",
       "      <td>0.074420</td>\n",
       "      <td>0.037528</td>\n",
       "      <td>0.039876</td>\n",
       "      <td>0.771552</td>\n",
       "    </tr>\n",
       "  </tbody>\n",
       "</table>\n",
       "</div>"
      ],
      "text/plain": [
       "          0         1         2         3\n",
       "0  0.272184  0.211345  0.184288  0.773464\n",
       "1  0.085004  0.072209  0.052386  0.819118\n",
       "2  0.074420  0.037528  0.039876  0.771552"
      ]
     },
     "execution_count": 21,
     "metadata": {},
     "output_type": "execute_result"
    }
   ],
   "source": [
    "df1.head(3)"
   ]
  },
  {
   "cell_type": "code",
   "execution_count": 22,
   "metadata": {
    "collapsed": false
   },
   "outputs": [
    {
     "data": {
      "text/html": [
       "<div>\n",
       "<table border=\"1\" class=\"dataframe\">\n",
       "  <thead>\n",
       "    <tr style=\"text-align: right;\">\n",
       "      <th></th>\n",
       "      <th>0</th>\n",
       "      <th>1</th>\n",
       "      <th>2</th>\n",
       "      <th>3</th>\n",
       "      <th>ZipCode</th>\n",
       "    </tr>\n",
       "    <tr>\n",
       "      <th>ZipCode</th>\n",
       "      <th></th>\n",
       "      <th></th>\n",
       "      <th></th>\n",
       "      <th></th>\n",
       "      <th></th>\n",
       "    </tr>\n",
       "  </thead>\n",
       "  <tbody>\n",
       "    <tr>\n",
       "      <th>10001.0</th>\n",
       "      <td>0.272184</td>\n",
       "      <td>0.211345</td>\n",
       "      <td>0.184288</td>\n",
       "      <td>0.773464</td>\n",
       "      <td>10001.0</td>\n",
       "    </tr>\n",
       "    <tr>\n",
       "      <th>10002.0</th>\n",
       "      <td>0.085004</td>\n",
       "      <td>0.072209</td>\n",
       "      <td>0.052386</td>\n",
       "      <td>0.819118</td>\n",
       "      <td>10002.0</td>\n",
       "    </tr>\n",
       "    <tr>\n",
       "      <th>10003.0</th>\n",
       "      <td>0.074420</td>\n",
       "      <td>0.037528</td>\n",
       "      <td>0.039876</td>\n",
       "      <td>0.771552</td>\n",
       "      <td>10003.0</td>\n",
       "    </tr>\n",
       "  </tbody>\n",
       "</table>\n",
       "</div>"
      ],
      "text/plain": [
       "                0         1         2         3  ZipCode\n",
       "ZipCode                                                 \n",
       "10001.0  0.272184  0.211345  0.184288  0.773464  10001.0\n",
       "10002.0  0.085004  0.072209  0.052386  0.819118  10002.0\n",
       "10003.0  0.074420  0.037528  0.039876  0.771552  10003.0"
      ]
     },
     "execution_count": 22,
     "metadata": {},
     "output_type": "execute_result"
    }
   ],
   "source": [
    "df1.index = df.index\n",
    "df1['ZipCode'] = df1.index\n",
    "df1.reset_index\n",
    "df1.head(3)"
   ]
  },
  {
   "cell_type": "code",
   "execution_count": 23,
   "metadata": {
    "collapsed": false
   },
   "outputs": [
    {
     "data": {
      "text/html": [
       "<div>\n",
       "<table border=\"1\" class=\"dataframe\">\n",
       "  <thead>\n",
       "    <tr style=\"text-align: right;\">\n",
       "      <th></th>\n",
       "      <th>0</th>\n",
       "      <th>1</th>\n",
       "      <th>2</th>\n",
       "      <th>3</th>\n",
       "      <th>ZipCode</th>\n",
       "    </tr>\n",
       "    <tr>\n",
       "      <th>ZipCode</th>\n",
       "      <th></th>\n",
       "      <th></th>\n",
       "      <th></th>\n",
       "      <th></th>\n",
       "      <th></th>\n",
       "    </tr>\n",
       "  </thead>\n",
       "  <tbody>\n",
       "    <tr>\n",
       "      <th>10001.0</th>\n",
       "      <td>0.272184</td>\n",
       "      <td>0.211345</td>\n",
       "      <td>0.184288</td>\n",
       "      <td>0.773464</td>\n",
       "      <td>10001.0</td>\n",
       "    </tr>\n",
       "    <tr>\n",
       "      <th>10002.0</th>\n",
       "      <td>0.085004</td>\n",
       "      <td>0.072209</td>\n",
       "      <td>0.052386</td>\n",
       "      <td>0.819118</td>\n",
       "      <td>10002.0</td>\n",
       "    </tr>\n",
       "    <tr>\n",
       "      <th>10003.0</th>\n",
       "      <td>0.074420</td>\n",
       "      <td>0.037528</td>\n",
       "      <td>0.039876</td>\n",
       "      <td>0.771552</td>\n",
       "      <td>10003.0</td>\n",
       "    </tr>\n",
       "  </tbody>\n",
       "</table>\n",
       "</div>"
      ],
      "text/plain": [
       "                0         1         2         3  ZipCode\n",
       "ZipCode                                                 \n",
       "10001.0  0.272184  0.211345  0.184288  0.773464  10001.0\n",
       "10002.0  0.085004  0.072209  0.052386  0.819118  10002.0\n",
       "10003.0  0.074420  0.037528  0.039876  0.771552  10003.0"
      ]
     },
     "execution_count": 23,
     "metadata": {},
     "output_type": "execute_result"
    }
   ],
   "source": [
    "df1.iloc[:,1:]\n",
    "df1.head(3)"
   ]
  },
  {
   "cell_type": "code",
   "execution_count": 24,
   "metadata": {
    "collapsed": false
   },
   "outputs": [
    {
     "data": {
      "text/html": [
       "<div>\n",
       "<table border=\"1\" class=\"dataframe\">\n",
       "  <thead>\n",
       "    <tr style=\"text-align: right;\">\n",
       "      <th></th>\n",
       "      <th>0</th>\n",
       "      <th>1</th>\n",
       "      <th>2</th>\n",
       "      <th>3</th>\n",
       "    </tr>\n",
       "    <tr>\n",
       "      <th>ZipCode</th>\n",
       "      <th></th>\n",
       "      <th></th>\n",
       "      <th></th>\n",
       "      <th></th>\n",
       "    </tr>\n",
       "  </thead>\n",
       "  <tbody>\n",
       "    <tr>\n",
       "      <th>10001.0</th>\n",
       "      <td>0.272184</td>\n",
       "      <td>0.211345</td>\n",
       "      <td>0.184288</td>\n",
       "      <td>0.773464</td>\n",
       "    </tr>\n",
       "    <tr>\n",
       "      <th>10002.0</th>\n",
       "      <td>0.085004</td>\n",
       "      <td>0.072209</td>\n",
       "      <td>0.052386</td>\n",
       "      <td>0.819118</td>\n",
       "    </tr>\n",
       "  </tbody>\n",
       "</table>\n",
       "</div>"
      ],
      "text/plain": [
       "                0         1         2         3\n",
       "ZipCode                                        \n",
       "10001.0  0.272184  0.211345  0.184288  0.773464\n",
       "10002.0  0.085004  0.072209  0.052386  0.819118"
      ]
     },
     "execution_count": 24,
     "metadata": {},
     "output_type": "execute_result"
    }
   ],
   "source": [
    "df1.drop(['ZipCode'], axis = 1, inplace = True)\n",
    "df1.head(2)"
   ]
  },
  {
   "cell_type": "code",
   "execution_count": 25,
   "metadata": {
    "collapsed": false
   },
   "outputs": [
    {
     "data": {
      "text/html": [
       "<div>\n",
       "<table border=\"1\" class=\"dataframe\">\n",
       "  <thead>\n",
       "    <tr style=\"text-align: right;\">\n",
       "      <th></th>\n",
       "      <th>ZipCode</th>\n",
       "      <th>0</th>\n",
       "      <th>1</th>\n",
       "      <th>2</th>\n",
       "      <th>3</th>\n",
       "    </tr>\n",
       "  </thead>\n",
       "  <tbody>\n",
       "    <tr>\n",
       "      <th>0</th>\n",
       "      <td>10001.0</td>\n",
       "      <td>0.272184</td>\n",
       "      <td>0.211345</td>\n",
       "      <td>0.184288</td>\n",
       "      <td>0.773464</td>\n",
       "    </tr>\n",
       "    <tr>\n",
       "      <th>1</th>\n",
       "      <td>10002.0</td>\n",
       "      <td>0.085004</td>\n",
       "      <td>0.072209</td>\n",
       "      <td>0.052386</td>\n",
       "      <td>0.819118</td>\n",
       "    </tr>\n",
       "  </tbody>\n",
       "</table>\n",
       "</div>"
      ],
      "text/plain": [
       "   ZipCode         0         1         2         3\n",
       "0  10001.0  0.272184  0.211345  0.184288  0.773464\n",
       "1  10002.0  0.085004  0.072209  0.052386  0.819118"
      ]
     },
     "execution_count": 25,
     "metadata": {},
     "output_type": "execute_result"
    }
   ],
   "source": [
    "df1 = df1.reset_index()\n",
    "df1.head(2)"
   ]
  },
  {
   "cell_type": "code",
   "execution_count": 26,
   "metadata": {
    "collapsed": false
   },
   "outputs": [
    {
     "data": {
      "text/plain": [
       "49"
      ]
     },
     "execution_count": 26,
     "metadata": {},
     "output_type": "execute_result"
    }
   ],
   "source": [
    "len(df1.ZipCode.unique())"
   ]
  },
  {
   "cell_type": "markdown",
   "metadata": {},
   "source": [
    "#### Merge the data with geojson file"
   ]
  },
  {
   "cell_type": "code",
   "execution_count": 28,
   "metadata": {
    "collapsed": false
   },
   "outputs": [],
   "source": [
    "#nyc_shape.index = nyc_shape.ZipCode\n",
    "mn_zip = nyc_shape.merge(df1,on ='ZipCode', how='outer')"
   ]
  },
  {
   "cell_type": "code",
   "execution_count": 29,
   "metadata": {
    "collapsed": false
   },
   "outputs": [
    {
     "data": {
      "text/html": [
       "<div>\n",
       "<table border=\"1\" class=\"dataframe\">\n",
       "  <thead>\n",
       "    <tr style=\"text-align: right;\">\n",
       "      <th></th>\n",
       "      <th>borough</th>\n",
       "      <th>geometry</th>\n",
       "      <th>ZipCode</th>\n",
       "      <th>0</th>\n",
       "      <th>1</th>\n",
       "      <th>2</th>\n",
       "      <th>3</th>\n",
       "    </tr>\n",
       "  </thead>\n",
       "  <tbody>\n",
       "    <tr>\n",
       "      <th>0</th>\n",
       "      <td>Manhattan</td>\n",
       "      <td>POLYGON ((-73.92062094847111 40.873001790648, ...</td>\n",
       "      <td>10034.0</td>\n",
       "      <td>0.012594</td>\n",
       "      <td>0.136119</td>\n",
       "      <td>0.110080</td>\n",
       "      <td>0.822262</td>\n",
       "    </tr>\n",
       "    <tr>\n",
       "      <th>1</th>\n",
       "      <td>Manhattan</td>\n",
       "      <td>POLYGON ((-73.93213126627553 40.86945065275044...</td>\n",
       "      <td>10033.0</td>\n",
       "      <td>0.022046</td>\n",
       "      <td>0.088301</td>\n",
       "      <td>0.052985</td>\n",
       "      <td>0.809672</td>\n",
       "    </tr>\n",
       "    <tr>\n",
       "      <th>2</th>\n",
       "      <td>Manhattan</td>\n",
       "      <td>POLYGON ((-73.93378898818895 40.8630718729956,...</td>\n",
       "      <td>10040.0</td>\n",
       "      <td>0.019057</td>\n",
       "      <td>0.137704</td>\n",
       "      <td>0.060926</td>\n",
       "      <td>0.840027</td>\n",
       "    </tr>\n",
       "    <tr>\n",
       "      <th>3</th>\n",
       "      <td>Manhattan</td>\n",
       "      <td>POLYGON ((-73.94691631035546 40.85053396462935...</td>\n",
       "      <td>10032.0</td>\n",
       "      <td>0.026393</td>\n",
       "      <td>0.097626</td>\n",
       "      <td>0.054745</td>\n",
       "      <td>0.780752</td>\n",
       "    </tr>\n",
       "    <tr>\n",
       "      <th>4</th>\n",
       "      <td>Manhattan</td>\n",
       "      <td>POLYGON ((-73.94008773907041 40.83034967785467...</td>\n",
       "      <td>10031.0</td>\n",
       "      <td>0.001564</td>\n",
       "      <td>0.055250</td>\n",
       "      <td>0.015642</td>\n",
       "      <td>0.592347</td>\n",
       "    </tr>\n",
       "  </tbody>\n",
       "</table>\n",
       "</div>"
      ],
      "text/plain": [
       "     borough                                           geometry  ZipCode  \\\n",
       "0  Manhattan  POLYGON ((-73.92062094847111 40.873001790648, ...  10034.0   \n",
       "1  Manhattan  POLYGON ((-73.93213126627553 40.86945065275044...  10033.0   \n",
       "2  Manhattan  POLYGON ((-73.93378898818895 40.8630718729956,...  10040.0   \n",
       "3  Manhattan  POLYGON ((-73.94691631035546 40.85053396462935...  10032.0   \n",
       "4  Manhattan  POLYGON ((-73.94008773907041 40.83034967785467...  10031.0   \n",
       "\n",
       "          0         1         2         3  \n",
       "0  0.012594  0.136119  0.110080  0.822262  \n",
       "1  0.022046  0.088301  0.052985  0.809672  \n",
       "2  0.019057  0.137704  0.060926  0.840027  \n",
       "3  0.026393  0.097626  0.054745  0.780752  \n",
       "4  0.001564  0.055250  0.015642  0.592347  "
      ]
     },
     "execution_count": 29,
     "metadata": {},
     "output_type": "execute_result"
    }
   ],
   "source": [
    "mn_zip.head()"
   ]
  },
  {
   "cell_type": "code",
   "execution_count": 30,
   "metadata": {
    "collapsed": false
   },
   "outputs": [
    {
     "data": {
      "text/plain": [
       "borough      1\n",
       "geometry     1\n",
       "ZipCode      0\n",
       "0           57\n",
       "1           57\n",
       "2           57\n",
       "3           57\n",
       "dtype: int64"
      ]
     },
     "execution_count": 30,
     "metadata": {},
     "output_type": "execute_result"
    }
   ],
   "source": [
    "mn_zip.isnull().sum()"
   ]
  },
  {
   "cell_type": "code",
   "execution_count": 31,
   "metadata": {
    "collapsed": false
   },
   "outputs": [
    {
     "data": {
      "text/plain": [
       "(48, 7)"
      ]
     },
     "execution_count": 31,
     "metadata": {},
     "output_type": "execute_result"
    }
   ],
   "source": [
    "mn_zip.dropna(inplace=True)\n",
    "mn_zip.shape"
   ]
  },
  {
   "cell_type": "code",
   "execution_count": 32,
   "metadata": {
    "collapsed": false
   },
   "outputs": [],
   "source": [
    "mn_zip.rename(columns={'0':'NumFloors', '1':'BldgFront', '2':'BldgDepth', '3':'IrrLotCode'},inplace=True)"
   ]
  },
  {
   "cell_type": "markdown",
   "metadata": {},
   "source": [
    "The dataframe is clean and ready for clustering analysis.\n",
    "\n",
    "## KMeans Clustering "
   ]
  },
  {
   "cell_type": "code",
   "execution_count": 34,
   "metadata": {
    "collapsed": false
   },
   "outputs": [
    {
     "name": "stdout",
     "output_type": "stream",
     "text": [
      "For n_clusters =2, the average silhouette_score is :0.481942826644951\n",
      "For n_clusters =3, the average silhouette_score is :0.49829766832402234\n",
      "For n_clusters =4, the average silhouette_score is :0.4336857963692444\n",
      "For n_clusters =5, the average silhouette_score is :0.37811692930824475\n",
      "For n_clusters =6, the average silhouette_score is :0.3640841886109711\n",
      "For n_clusters =7, the average silhouette_score is :0.35172781181404406\n",
      "For n_clusters =8, the average silhouette_score is :0.35168057738126834\n",
      "For n_clusters =9, the average silhouette_score is :0.3571896239041697\n"
     ]
    }
   ],
   "source": [
    "X = mn_zip.iloc[:, 3:7]\n",
    "range_n_clusters = range(2,10)\n",
    "for n_clusters in range_n_clusters:\n",
    "    km = KMeans(n_clusters=n_clusters, random_state=324)\n",
    "    cluster_labels = km.fit_predict(X)\n",
    "    silhouette_avg = silhouette_score(X, cluster_labels)\n",
    "    print(\"For n_clusters ={},\".format(n_clusters)+\" the average silhouette_score is :{}\".\\\n",
    "          format(silhouette_avg))"
   ]
  },
  {
   "cell_type": "code",
   "execution_count": 35,
   "metadata": {
    "collapsed": false
   },
   "outputs": [],
   "source": [
    "# number of clusters = 4 \n",
    "nc = 4\n",
    "kmeans_cluster = KMeans(n_clusters=nc, random_state=324).fit(X)\n",
    "centers = kmeans_cluster.cluster_centers_\n",
    "mn_zip['km_labels'] = kmeans_cluster.labels_"
   ]
  },
  {
   "cell_type": "code",
   "execution_count": 36,
   "metadata": {
    "collapsed": false
   },
   "outputs": [
    {
     "data": {
      "image/svg+xml": [
       "<svg xmlns=\"http://www.w3.org/2000/svg\" xmlns:xlink=\"http://www.w3.org/1999/xlink\" width=\"100.0\" height=\"100.0\" viewBox=\"-73.94452152178783 40.81882091289193 0.011377127896324168 0.018326878182570283\" preserveAspectRatio=\"xMinYMin meet\"><g transform=\"matrix(1,0,0,-1,0,81.65596870396644)\"><path fill-rule=\"evenodd\" fill=\"#66cc99\" stroke=\"#555555\" stroke-width=\"0.00036653756365140566\" opacity=\"0.6\" d=\"M -73.93439575536135,40.83610394068545 L -73.93491790572467,40.83519342810474 L -73.93514291963257,40.832750484738476 L -73.93442124221117,40.827040143954164 L -73.93396483800849,40.81972427828244 L -73.93382728310257,40.81969831735175 L -73.93382316715753,40.819499686157954 L -73.94384274852182,40.823647824134895 L -73.93972862463075,40.82930186115972 L -73.93967968247685,40.82970254686012 L -73.9400877390704,40.83034967785467 L -73.93997525986644,40.830787705622726 L -73.93939208403268,40.83152064201187 L -73.9388531954772,40.83255914208199 L -73.93814090955608,40.83330373505747 L -73.93489763514887,40.83582227676596 L -73.93440160458212,40.836469017808476 L -73.93439575536135,40.83610394068545 z\" /></g></svg>"
      ],
      "text/plain": [
       "<shapely.geometry.polygon.Polygon at 0x117b7df98>"
      ]
     },
     "execution_count": 36,
     "metadata": {},
     "output_type": "execute_result"
    }
   ],
   "source": [
    "mn_zip.geometry[5]"
   ]
  },
  {
   "cell_type": "code",
   "execution_count": 38,
   "metadata": {
    "collapsed": false
   },
   "outputs": [
    {
     "data": {
      "text/html": [
       "<div>\n",
       "<table border=\"1\" class=\"dataframe\">\n",
       "  <thead>\n",
       "    <tr style=\"text-align: right;\">\n",
       "      <th></th>\n",
       "      <th>Unnamed: 0</th>\n",
       "      <th>borough</th>\n",
       "      <th>geometry</th>\n",
       "      <th>ZipCode</th>\n",
       "      <th>NumFloors</th>\n",
       "      <th>BldgFront</th>\n",
       "      <th>BldgDepth</th>\n",
       "      <th>IrrLotCode</th>\n",
       "      <th>km_labels</th>\n",
       "      <th>sum</th>\n",
       "    </tr>\n",
       "  </thead>\n",
       "  <tbody>\n",
       "    <tr>\n",
       "      <th>0</th>\n",
       "      <td>0</td>\n",
       "      <td>Manhattan</td>\n",
       "      <td>POLYGON ((-73.92062094847111 40.873001790648, ...</td>\n",
       "      <td>10034</td>\n",
       "      <td>0.012594</td>\n",
       "      <td>0.136119</td>\n",
       "      <td>0.110080</td>\n",
       "      <td>0.822262</td>\n",
       "      <td>3</td>\n",
       "      <td>1.081055</td>\n",
       "    </tr>\n",
       "    <tr>\n",
       "      <th>1</th>\n",
       "      <td>1</td>\n",
       "      <td>Manhattan</td>\n",
       "      <td>POLYGON ((-73.93213126627553 40.86945065275044...</td>\n",
       "      <td>10033</td>\n",
       "      <td>0.022046</td>\n",
       "      <td>0.088301</td>\n",
       "      <td>0.052985</td>\n",
       "      <td>0.809672</td>\n",
       "      <td>3</td>\n",
       "      <td>0.973005</td>\n",
       "    </tr>\n",
       "  </tbody>\n",
       "</table>\n",
       "</div>"
      ],
      "text/plain": [
       "   Unnamed: 0    borough                                           geometry  \\\n",
       "0           0  Manhattan  POLYGON ((-73.92062094847111 40.873001790648, ...   \n",
       "1           1  Manhattan  POLYGON ((-73.93213126627553 40.86945065275044...   \n",
       "\n",
       "   ZipCode  NumFloors  BldgFront  BldgDepth  IrrLotCode  km_labels       sum  \n",
       "0    10034   0.012594   0.136119   0.110080    0.822262          3  1.081055  \n",
       "1    10033   0.022046   0.088301   0.052985    0.809672          3  0.973005  "
      ]
     },
     "execution_count": 38,
     "metadata": {},
     "output_type": "execute_result"
    }
   ],
   "source": [
    "mn_zip = pd.read_csv('Manhattan_clustering.csv')\n",
    "mn_zip['sum'] = mn_zip.NumFloors + mn_zip.BldgFront + mn_zip.BldgDepth + mn_zip.IrrLotCode\n",
    "mn_zip.head(2)"
   ]
  },
  {
   "cell_type": "code",
   "execution_count": 39,
   "metadata": {
    "collapsed": false
   },
   "outputs": [
    {
     "data": {
      "text/html": [
       "<div>\n",
       "<table border=\"1\" class=\"dataframe\">\n",
       "  <thead>\n",
       "    <tr style=\"text-align: right;\">\n",
       "      <th></th>\n",
       "      <th>borough</th>\n",
       "      <th>geometry</th>\n",
       "      <th>ZipCode</th>\n",
       "      <th>NumFloors</th>\n",
       "      <th>BldgFront</th>\n",
       "      <th>BldgDepth</th>\n",
       "      <th>IrrLotCode</th>\n",
       "      <th>km_labels</th>\n",
       "      <th>sum</th>\n",
       "    </tr>\n",
       "  </thead>\n",
       "  <tbody>\n",
       "    <tr>\n",
       "      <th>0</th>\n",
       "      <td>Manhattan</td>\n",
       "      <td>POLYGON ((-73.92062094847111 40.873001790648, ...</td>\n",
       "      <td>10034</td>\n",
       "      <td>0.012594</td>\n",
       "      <td>0.136119</td>\n",
       "      <td>0.110080</td>\n",
       "      <td>0.822262</td>\n",
       "      <td>3</td>\n",
       "      <td>1.081055</td>\n",
       "    </tr>\n",
       "    <tr>\n",
       "      <th>1</th>\n",
       "      <td>Manhattan</td>\n",
       "      <td>POLYGON ((-73.93213126627553 40.86945065275044...</td>\n",
       "      <td>10033</td>\n",
       "      <td>0.022046</td>\n",
       "      <td>0.088301</td>\n",
       "      <td>0.052985</td>\n",
       "      <td>0.809672</td>\n",
       "      <td>3</td>\n",
       "      <td>0.973005</td>\n",
       "    </tr>\n",
       "  </tbody>\n",
       "</table>\n",
       "</div>"
      ],
      "text/plain": [
       "     borough                                           geometry  ZipCode  \\\n",
       "0  Manhattan  POLYGON ((-73.92062094847111 40.873001790648, ...    10034   \n",
       "1  Manhattan  POLYGON ((-73.93213126627553 40.86945065275044...    10033   \n",
       "\n",
       "   NumFloors  BldgFront  BldgDepth  IrrLotCode  km_labels       sum  \n",
       "0   0.012594   0.136119   0.110080    0.822262          3  1.081055  \n",
       "1   0.022046   0.088301   0.052985    0.809672          3  0.973005  "
      ]
     },
     "execution_count": 39,
     "metadata": {},
     "output_type": "execute_result"
    }
   ],
   "source": [
    "mn_zip.drop('Unnamed: 0', axis=1,inplace=True)\n",
    "mn_zip.head(2)"
   ]
  },
  {
   "cell_type": "markdown",
   "metadata": {},
   "source": [
    "## DBSCAN Clustering "
   ]
  },
  {
   "cell_type": "code",
   "execution_count": 40,
   "metadata": {
    "collapsed": true
   },
   "outputs": [],
   "source": [
    "from sklearn.cluster import DBSCAN"
   ]
  },
  {
   "cell_type": "code",
   "execution_count": 41,
   "metadata": {
    "collapsed": true
   },
   "outputs": [],
   "source": [
    "db = DBSCAN(eps=0.1).fit(X)\n",
    "mn_zip['db_labels'] = (db.labels_).astype(int)"
   ]
  },
  {
   "cell_type": "code",
   "execution_count": 42,
   "metadata": {
    "collapsed": false
   },
   "outputs": [
    {
     "name": "stdout",
     "output_type": "stream",
     "text": [
      "Number of clusters : 4\n"
     ]
    }
   ],
   "source": [
    "n_clusters = len(set(mn_zip['db_labels'])) - (1 if -1 in mn_zip['db_labels'] else 0)\n",
    "print ('Number of clusters :', n_clusters)"
   ]
  },
  {
   "cell_type": "code",
   "execution_count": 47,
   "metadata": {
    "collapsed": true
   },
   "outputs": [],
   "source": [
    "mn_zip.to_csv('Output/Cluster_labels.csv')"
   ]
  },
  {
   "cell_type": "markdown",
   "metadata": {},
   "source": [
    "### The zip codes in each of the clusters."
   ]
  },
  {
   "cell_type": "code",
   "execution_count": 43,
   "metadata": {
    "collapsed": false
   },
   "outputs": [],
   "source": [
    "mn_zip_lst = mn_zip.ZipCode.values.astype(str)"
   ]
  },
  {
   "cell_type": "code",
   "execution_count": 65,
   "metadata": {
    "collapsed": false
   },
   "outputs": [
    {
     "name": "stdout",
     "output_type": "stream",
     "text": [
      "zipcodes in cluster -1\n",
      "['10016' '10119']\n",
      "zipcodes in cluster 0\n",
      "['10034' '10033' '10040' '10031' '10039' '10030' '10027' '10037' '10024'\n",
      " '10026' '10035' '10025' '10029' '10128' '10023' '10028' '10044' '10036'\n",
      " '10018' '10020' '10017' '10001' '10011' '10010' '10014' '10003' '10002'\n",
      " '10009' '10012' '10013' '10007' '10038' '10006' '10005' '10004' '10280'\n",
      " '10019' '10103' '10075' '10069' '10281']\n",
      "zipcodes in cluster 1\n",
      "['10032' '10021' '10022' '10065']\n",
      "zipcodes in cluster 2\n",
      "[]\n"
     ]
    },
    {
     "name": "stderr",
     "output_type": "stream",
     "text": [
      "/Users/shalmali/anaconda/lib/python3.5/site-packages/ipykernel/__main__.py:3: VisibleDeprecationWarning: boolean index did not match indexed array along dimension 0; dimension is 48 but corresponding boolean dimension is 47\n",
      "  app.launch_new_instance()\n"
     ]
    }
   ],
   "source": [
    "for j in range(-1,3):\n",
    "    print (\"zipcodes in cluster\", j)\n",
    "    print (mn_zip_lst[db.labels_==j])"
   ]
  },
  {
   "cell_type": "code",
   "execution_count": 45,
   "metadata": {
    "collapsed": false
   },
   "outputs": [
    {
     "name": "stdout",
     "output_type": "stream",
     "text": [
      "zipcodes in cluster 0\n",
      "['10031' '10039' '10030' '10027' '10037' '10024' '10026' '10035' '10025'\n",
      " '10029' '10128' '10023' '10021' '10009' '10065' '10075']\n",
      "zipcodes in cluster 1\n",
      "['10020' '10103' '10281']\n",
      "zipcodes in cluster 2\n",
      "['10006' '10005' '10004' '10280' '10069' '10282']\n",
      "zipcodes in cluster 3\n",
      "['10044']\n"
     ]
    }
   ],
   "source": [
    "for j in range(4):\n",
    "    print (\"zipcodes in cluster\", j)\n",
    "    print (mn_zip_lst[km.labels_==j])"
   ]
  },
  {
   "cell_type": "markdown",
   "metadata": {},
   "source": [
    "The maps were created using Cartodb. "
   ]
  },
  {
   "cell_type": "code",
   "execution_count": null,
   "metadata": {
    "collapsed": true
   },
   "outputs": [],
   "source": []
  },
  {
   "cell_type": "code",
   "execution_count": null,
   "metadata": {
    "collapsed": true
   },
   "outputs": [],
   "source": []
  },
  {
   "cell_type": "code",
   "execution_count": null,
   "metadata": {
    "collapsed": true
   },
   "outputs": [],
   "source": []
  },
  {
   "cell_type": "markdown",
   "metadata": {},
   "source": [
    "## Adding Population Data"
   ]
  },
  {
   "cell_type": "code",
   "execution_count": 48,
   "metadata": {
    "collapsed": false
   },
   "outputs": [
    {
     "data": {
      "text/html": [
       "<div>\n",
       "<table border=\"1\" class=\"dataframe\">\n",
       "  <thead>\n",
       "    <tr style=\"text-align: right;\">\n",
       "      <th></th>\n",
       "      <th>FIPS</th>\n",
       "      <th>Area Name-Legal/Statistical Area Description</th>\n",
       "      <th>Logical Record Number</th>\n",
       "      <th>State (FIPS)</th>\n",
       "      <th>ZIP Code Tabulation Area (5 digit)</th>\n",
       "      <th>Population Density (per sq. mile)</th>\n",
       "    </tr>\n",
       "  </thead>\n",
       "  <tbody>\n",
       "    <tr>\n",
       "      <th>0</th>\n",
       "      <td>Geo_FIPS</td>\n",
       "      <td>Geo_NAME</td>\n",
       "      <td>Geo_LOGRECNO</td>\n",
       "      <td>Geo_STATE</td>\n",
       "      <td>Geo_ZCTA5</td>\n",
       "      <td>SE_T002_002</td>\n",
       "    </tr>\n",
       "    <tr>\n",
       "      <th>1</th>\n",
       "      <td>3610001</td>\n",
       "      <td>ZCTA5 10001</td>\n",
       "      <td>471365</td>\n",
       "      <td>36</td>\n",
       "      <td>10001</td>\n",
       "      <td>33959.17</td>\n",
       "    </tr>\n",
       "  </tbody>\n",
       "</table>\n",
       "</div>"
      ],
      "text/plain": [
       "       FIPS Area Name-Legal/Statistical Area Description  \\\n",
       "0  Geo_FIPS                                     Geo_NAME   \n",
       "1   3610001                           ZCTA5 10001          \n",
       "\n",
       "  Logical Record Number State (FIPS) ZIP Code Tabulation Area (5 digit)  \\\n",
       "0          Geo_LOGRECNO    Geo_STATE                          Geo_ZCTA5   \n",
       "1                471365           36                              10001   \n",
       "\n",
       "  Population Density (per sq. mile)  \n",
       "0                       SE_T002_002  \n",
       "1                          33959.17  "
      ]
     },
     "execution_count": 48,
     "metadata": {},
     "output_type": "execute_result"
    }
   ],
   "source": [
    "pop = pd.read_csv('population_zip.csv')\n",
    "pop.head(2)"
   ]
  },
  {
   "cell_type": "code",
   "execution_count": 49,
   "metadata": {
    "collapsed": false
   },
   "outputs": [],
   "source": [
    "pop = pop.iloc[1:,:]"
   ]
  },
  {
   "cell_type": "code",
   "execution_count": 50,
   "metadata": {
    "collapsed": false
   },
   "outputs": [
    {
     "data": {
      "text/html": [
       "<div>\n",
       "<table border=\"1\" class=\"dataframe\">\n",
       "  <thead>\n",
       "    <tr style=\"text-align: right;\">\n",
       "      <th></th>\n",
       "      <th>FIPS</th>\n",
       "      <th>Area Name-Legal/Statistical Area Description</th>\n",
       "      <th>Logical Record Number</th>\n",
       "      <th>State (FIPS)</th>\n",
       "      <th>ZIP Code Tabulation Area (5 digit)</th>\n",
       "      <th>Population Density (per sq. mile)</th>\n",
       "    </tr>\n",
       "  </thead>\n",
       "  <tbody>\n",
       "    <tr>\n",
       "      <th>1</th>\n",
       "      <td>3610001</td>\n",
       "      <td>ZCTA5 10001</td>\n",
       "      <td>471365</td>\n",
       "      <td>36</td>\n",
       "      <td>10001</td>\n",
       "      <td>33959.17</td>\n",
       "    </tr>\n",
       "    <tr>\n",
       "      <th>2</th>\n",
       "      <td>3610002</td>\n",
       "      <td>ZCTA5 10002</td>\n",
       "      <td>471367</td>\n",
       "      <td>36</td>\n",
       "      <td>10002</td>\n",
       "      <td>92573.08</td>\n",
       "    </tr>\n",
       "    <tr>\n",
       "      <th>3</th>\n",
       "      <td>3610003</td>\n",
       "      <td>ZCTA5 10003</td>\n",
       "      <td>471369</td>\n",
       "      <td>36</td>\n",
       "      <td>10003</td>\n",
       "      <td>97187.61</td>\n",
       "    </tr>\n",
       "  </tbody>\n",
       "</table>\n",
       "</div>"
      ],
      "text/plain": [
       "      FIPS Area Name-Legal/Statistical Area Description Logical Record Number  \\\n",
       "1  3610001                           ZCTA5 10001                       471365   \n",
       "2  3610002                           ZCTA5 10002                       471367   \n",
       "3  3610003                           ZCTA5 10003                       471369   \n",
       "\n",
       "  State (FIPS) ZIP Code Tabulation Area (5 digit)  \\\n",
       "1           36                              10001   \n",
       "2           36                              10002   \n",
       "3           36                              10003   \n",
       "\n",
       "  Population Density (per sq. mile)  \n",
       "1                          33959.17  \n",
       "2                          92573.08  \n",
       "3                          97187.61  "
      ]
     },
     "execution_count": 50,
     "metadata": {},
     "output_type": "execute_result"
    }
   ],
   "source": [
    "pop.head(3)"
   ]
  },
  {
   "cell_type": "code",
   "execution_count": 51,
   "metadata": {
    "collapsed": true
   },
   "outputs": [],
   "source": [
    "pop.rename(columns= {'ZIP Code Tabulation Area (5 digit)': 'ZipCode'}, inplace=True)"
   ]
  },
  {
   "cell_type": "code",
   "execution_count": 52,
   "metadata": {
    "collapsed": false
   },
   "outputs": [
    {
     "data": {
      "text/plain": [
       "dtype('O')"
      ]
     },
     "execution_count": 52,
     "metadata": {},
     "output_type": "execute_result"
    }
   ],
   "source": [
    "pop.ZipCode.dtype"
   ]
  },
  {
   "cell_type": "code",
   "execution_count": 53,
   "metadata": {
    "collapsed": false
   },
   "outputs": [],
   "source": [
    "pop['ZipCode'] = pop.ZipCode.astype(int)"
   ]
  },
  {
   "cell_type": "code",
   "execution_count": 54,
   "metadata": {
    "collapsed": false
   },
   "outputs": [
    {
     "data": {
      "text/html": [
       "<div>\n",
       "<table border=\"1\" class=\"dataframe\">\n",
       "  <thead>\n",
       "    <tr style=\"text-align: right;\">\n",
       "      <th></th>\n",
       "      <th>FIPS</th>\n",
       "      <th>Area Name-Legal/Statistical Area Description</th>\n",
       "      <th>Logical Record Number</th>\n",
       "      <th>State (FIPS)</th>\n",
       "      <th>ZipCode</th>\n",
       "      <th>Population Density (per sq. mile)</th>\n",
       "      <th>borough</th>\n",
       "      <th>geometry</th>\n",
       "      <th>NumFloors</th>\n",
       "      <th>BldgFront</th>\n",
       "      <th>BldgDepth</th>\n",
       "      <th>IrrLotCode</th>\n",
       "      <th>km_labels</th>\n",
       "      <th>sum</th>\n",
       "      <th>db_labels</th>\n",
       "    </tr>\n",
       "  </thead>\n",
       "  <tbody>\n",
       "    <tr>\n",
       "      <th>0</th>\n",
       "      <td>3610001</td>\n",
       "      <td>ZCTA5 10001</td>\n",
       "      <td>471365</td>\n",
       "      <td>36</td>\n",
       "      <td>10001</td>\n",
       "      <td>33959.17</td>\n",
       "      <td>Manhattan</td>\n",
       "      <td>POLYGON ((-74.00827017711134 40.75258714368449...</td>\n",
       "      <td>0.272184</td>\n",
       "      <td>0.211345</td>\n",
       "      <td>0.184288</td>\n",
       "      <td>0.773464</td>\n",
       "      <td>3</td>\n",
       "      <td>1.441281</td>\n",
       "      <td>-1</td>\n",
       "    </tr>\n",
       "    <tr>\n",
       "      <th>1</th>\n",
       "      <td>3610002</td>\n",
       "      <td>ZCTA5 10002</td>\n",
       "      <td>471367</td>\n",
       "      <td>36</td>\n",
       "      <td>10002</td>\n",
       "      <td>92573.08</td>\n",
       "      <td>Manhattan</td>\n",
       "      <td>POLYGON ((-73.97441674489379 40.73642441865476...</td>\n",
       "      <td>0.085004</td>\n",
       "      <td>0.072209</td>\n",
       "      <td>0.052386</td>\n",
       "      <td>0.819118</td>\n",
       "      <td>3</td>\n",
       "      <td>1.028718</td>\n",
       "      <td>0</td>\n",
       "    </tr>\n",
       "    <tr>\n",
       "      <th>2</th>\n",
       "      <td>3610003</td>\n",
       "      <td>ZCTA5 10003</td>\n",
       "      <td>471369</td>\n",
       "      <td>36</td>\n",
       "      <td>10003</td>\n",
       "      <td>97187.61</td>\n",
       "      <td>Manhattan</td>\n",
       "      <td>POLYGON ((-73.97986374196766 40.73497446573838...</td>\n",
       "      <td>0.074420</td>\n",
       "      <td>0.037528</td>\n",
       "      <td>0.039876</td>\n",
       "      <td>0.771552</td>\n",
       "      <td>3</td>\n",
       "      <td>0.923377</td>\n",
       "      <td>0</td>\n",
       "    </tr>\n",
       "  </tbody>\n",
       "</table>\n",
       "</div>"
      ],
      "text/plain": [
       "      FIPS Area Name-Legal/Statistical Area Description Logical Record Number  \\\n",
       "0  3610001                           ZCTA5 10001                       471365   \n",
       "1  3610002                           ZCTA5 10002                       471367   \n",
       "2  3610003                           ZCTA5 10003                       471369   \n",
       "\n",
       "  State (FIPS)  ZipCode Population Density (per sq. mile)    borough  \\\n",
       "0           36    10001                          33959.17  Manhattan   \n",
       "1           36    10002                          92573.08  Manhattan   \n",
       "2           36    10003                          97187.61  Manhattan   \n",
       "\n",
       "                                            geometry  NumFloors  BldgFront  \\\n",
       "0  POLYGON ((-74.00827017711134 40.75258714368449...   0.272184   0.211345   \n",
       "1  POLYGON ((-73.97441674489379 40.73642441865476...   0.085004   0.072209   \n",
       "2  POLYGON ((-73.97986374196766 40.73497446573838...   0.074420   0.037528   \n",
       "\n",
       "   BldgDepth  IrrLotCode  km_labels       sum  db_labels  \n",
       "0   0.184288    0.773464          3  1.441281         -1  \n",
       "1   0.052386    0.819118          3  1.028718          0  \n",
       "2   0.039876    0.771552          3  0.923377          0  "
      ]
     },
     "execution_count": 54,
     "metadata": {},
     "output_type": "execute_result"
    }
   ],
   "source": [
    "mn_df = pop.merge(mn_zip, on='ZipCode',how= 'inner' )\n",
    "mn_df.head(3)"
   ]
  },
  {
   "cell_type": "code",
   "execution_count": 55,
   "metadata": {
    "collapsed": false
   },
   "outputs": [
    {
     "data": {
      "text/plain": [
       "(47, 15)"
      ]
     },
     "execution_count": 55,
     "metadata": {},
     "output_type": "execute_result"
    }
   ],
   "source": [
    "mn_df.shape"
   ]
  },
  {
   "cell_type": "code",
   "execution_count": 56,
   "metadata": {
    "collapsed": false
   },
   "outputs": [],
   "source": [
    "mn_df = mn_df[['ZipCode','Population Density (per sq. mile)','sum', 'geometry']]"
   ]
  },
  {
   "cell_type": "code",
   "execution_count": 57,
   "metadata": {
    "collapsed": false
   },
   "outputs": [
    {
     "data": {
      "text/html": [
       "<div>\n",
       "<table border=\"1\" class=\"dataframe\">\n",
       "  <thead>\n",
       "    <tr style=\"text-align: right;\">\n",
       "      <th></th>\n",
       "      <th>ZipCode</th>\n",
       "      <th>Population Density (per sq. mile)</th>\n",
       "      <th>sum</th>\n",
       "      <th>geometry</th>\n",
       "    </tr>\n",
       "  </thead>\n",
       "  <tbody>\n",
       "    <tr>\n",
       "      <th>0</th>\n",
       "      <td>10001</td>\n",
       "      <td>33959.17</td>\n",
       "      <td>1.441281</td>\n",
       "      <td>POLYGON ((-74.00827017711134 40.75258714368449...</td>\n",
       "    </tr>\n",
       "    <tr>\n",
       "      <th>1</th>\n",
       "      <td>10002</td>\n",
       "      <td>92573.08</td>\n",
       "      <td>1.028718</td>\n",
       "      <td>POLYGON ((-73.97441674489379 40.73642441865476...</td>\n",
       "    </tr>\n",
       "    <tr>\n",
       "      <th>2</th>\n",
       "      <td>10003</td>\n",
       "      <td>97187.61</td>\n",
       "      <td>0.923377</td>\n",
       "      <td>POLYGON ((-73.97986374196766 40.73497446573838...</td>\n",
       "    </tr>\n",
       "  </tbody>\n",
       "</table>\n",
       "</div>"
      ],
      "text/plain": [
       "   ZipCode Population Density (per sq. mile)       sum  \\\n",
       "0    10001                          33959.17  1.441281   \n",
       "1    10002                          92573.08  1.028718   \n",
       "2    10003                          97187.61  0.923377   \n",
       "\n",
       "                                            geometry  \n",
       "0  POLYGON ((-74.00827017711134 40.75258714368449...  \n",
       "1  POLYGON ((-73.97441674489379 40.73642441865476...  \n",
       "2  POLYGON ((-73.97986374196766 40.73497446573838...  "
      ]
     },
     "execution_count": 57,
     "metadata": {},
     "output_type": "execute_result"
    }
   ],
   "source": [
    "mn_df.head(3)"
   ]
  },
  {
   "cell_type": "code",
   "execution_count": 58,
   "metadata": {
    "collapsed": true
   },
   "outputs": [],
   "source": [
    "mn_df.rename(columns={'sum':'div_score','Population Density (per sq. mile)':'Pop_density'},inplace=True)"
   ]
  },
  {
   "cell_type": "code",
   "execution_count": 59,
   "metadata": {
    "collapsed": false
   },
   "outputs": [
    {
     "data": {
      "text/html": [
       "<div>\n",
       "<table border=\"1\" class=\"dataframe\">\n",
       "  <thead>\n",
       "    <tr style=\"text-align: right;\">\n",
       "      <th></th>\n",
       "      <th>ZipCode</th>\n",
       "      <th>Pop_density</th>\n",
       "      <th>div_score</th>\n",
       "      <th>geometry</th>\n",
       "    </tr>\n",
       "  </thead>\n",
       "  <tbody>\n",
       "    <tr>\n",
       "      <th>0</th>\n",
       "      <td>10001</td>\n",
       "      <td>33959.17</td>\n",
       "      <td>1.441281</td>\n",
       "      <td>POLYGON ((-74.00827017711134 40.75258714368449...</td>\n",
       "    </tr>\n",
       "    <tr>\n",
       "      <th>1</th>\n",
       "      <td>10002</td>\n",
       "      <td>92573.08</td>\n",
       "      <td>1.028718</td>\n",
       "      <td>POLYGON ((-73.97441674489379 40.73642441865476...</td>\n",
       "    </tr>\n",
       "    <tr>\n",
       "      <th>2</th>\n",
       "      <td>10003</td>\n",
       "      <td>97187.61</td>\n",
       "      <td>0.923377</td>\n",
       "      <td>POLYGON ((-73.97986374196766 40.73497446573838...</td>\n",
       "    </tr>\n",
       "  </tbody>\n",
       "</table>\n",
       "</div>"
      ],
      "text/plain": [
       "   ZipCode Pop_density  div_score  \\\n",
       "0    10001    33959.17   1.441281   \n",
       "1    10002    92573.08   1.028718   \n",
       "2    10003    97187.61   0.923377   \n",
       "\n",
       "                                            geometry  \n",
       "0  POLYGON ((-74.00827017711134 40.75258714368449...  \n",
       "1  POLYGON ((-73.97441674489379 40.73642441865476...  \n",
       "2  POLYGON ((-73.97986374196766 40.73497446573838...  "
      ]
     },
     "execution_count": 59,
     "metadata": {},
     "output_type": "execute_result"
    }
   ],
   "source": [
    "mn_df.head(3)"
   ]
  },
  {
   "cell_type": "code",
   "execution_count": 60,
   "metadata": {
    "collapsed": false
   },
   "outputs": [],
   "source": [
    "mn_df.Pop_density = mn_df.Pop_density.astype(float)"
   ]
  },
  {
   "cell_type": "code",
   "execution_count": 61,
   "metadata": {
    "collapsed": false
   },
   "outputs": [
    {
     "name": "stdout",
     "output_type": "stream",
     "text": [
      "For n_clusters =2, the average silhouette_score is :0.5557222941581142\n",
      "For n_clusters =3, the average silhouette_score is :0.5462770942307834\n",
      "For n_clusters =4, the average silhouette_score is :0.570107107819348\n",
      "For n_clusters =5, the average silhouette_score is :0.5698623567528384\n",
      "For n_clusters =6, the average silhouette_score is :0.5834983876641345\n",
      "For n_clusters =7, the average silhouette_score is :0.5995944494092975\n",
      "For n_clusters =8, the average silhouette_score is :0.6118378430000373\n",
      "For n_clusters =9, the average silhouette_score is :0.6373836986478135\n",
      "For n_clusters =10, the average silhouette_score is :0.6372151163991274\n",
      "For n_clusters =11, the average silhouette_score is :0.6389324696369244\n",
      "For n_clusters =12, the average silhouette_score is :0.6155828383891108\n",
      "For n_clusters =13, the average silhouette_score is :0.6153479509100714\n",
      "For n_clusters =14, the average silhouette_score is :0.6122009465781809\n"
     ]
    }
   ],
   "source": [
    "X = mn_df.iloc[:, 1:2]\n",
    "range_n_clusters = range(2,15)\n",
    "for n_clusters in range_n_clusters:\n",
    "    km = KMeans(n_clusters=n_clusters, random_state=324)\n",
    "    cluster_labels = km.fit_predict(X)\n",
    "    silhouette_avg = silhouette_score(X, cluster_labels)\n",
    "    print(\"For n_clusters ={},\".format(n_clusters)+\" the average silhouette_score is :{}\".\\\n",
    "          format(silhouette_avg))"
   ]
  },
  {
   "cell_type": "code",
   "execution_count": 62,
   "metadata": {
    "collapsed": true
   },
   "outputs": [],
   "source": [
    "# number of clusters = 8\n",
    "nc = 8\n",
    "kmeans_cluster = KMeans(n_clusters=nc, random_state=324).fit(X)\n",
    "centers = kmeans_cluster.cluster_centers_\n",
    "mn_df['km_labels'] = kmeans_cluster.labels_"
   ]
  },
  {
   "cell_type": "code",
   "execution_count": 63,
   "metadata": {
    "collapsed": true
   },
   "outputs": [],
   "source": [
    "db = DBSCAN(eps=14900).fit(X)\n",
    "mn_df['db_labels'] = (db.labels_).astype(int)"
   ]
  },
  {
   "cell_type": "code",
   "execution_count": 64,
   "metadata": {
    "collapsed": false
   },
   "outputs": [
    {
     "name": "stdout",
     "output_type": "stream",
     "text": [
      "Number of clusters : 3\n"
     ]
    }
   ],
   "source": [
    "n_clusters = len(set(mn_df['db_labels'])) - (1 if -1 in mn_df['db_labels'] else 0)\n",
    "print ('Number of clusters :', n_clusters)"
   ]
  },
  {
   "cell_type": "code",
   "execution_count": null,
   "metadata": {
    "collapsed": true
   },
   "outputs": [],
   "source": [
    "mn_df.to_csv('clustering.csv')"
   ]
  },
  {
   "cell_type": "code",
   "execution_count": null,
   "metadata": {
    "collapsed": true
   },
   "outputs": [],
   "source": []
  }
 ],
 "metadata": {
  "anaconda-cloud": {},
  "kernelspec": {
   "display_name": "Python [default]",
   "language": "python",
   "name": "python3"
  },
  "language_info": {
   "codemirror_mode": {
    "name": "ipython",
    "version": 3
   },
   "file_extension": ".py",
   "mimetype": "text/x-python",
   "name": "python",
   "nbconvert_exporter": "python",
   "pygments_lexer": "ipython3",
   "version": "3.5.2"
  }
 },
 "nbformat": 4,
 "nbformat_minor": 1
}
